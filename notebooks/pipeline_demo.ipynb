{
 "cells": [
  {
   "cell_type": "markdown",
   "id": "intro",
   "metadata": {},
   "source": [
    "# VetPathogen Pipeline Demo",
    "",
    "Run the mock classification and resistance prediction pipeline end-to-end."
   ]
  },
  {
   "cell_type": "code",
   "execution_count": null,
   "id": "sys-path",
   "metadata": {},
   "outputs": [],
   "source": [
    "from pathlib import Path",
    "import sys",
    "",
    "PROJECT_ROOT = Path(\"..\").resolve()",
    "if str(PROJECT_ROOT) not in sys.path:",
    "    sys.path.append(str(PROJECT_ROOT))"
   ]
  },
  {
   "cell_type": "code",
   "execution_count": null,
   "id": "imports",
   "metadata": {},
   "outputs": [],
   "source": [
    "from pipeline.report import generate_report",
    "from IPython.display import display",
    "",
    "DATA_DIR = PROJECT_ROOT / \"data\""
   ]
  },
  {
   "cell_type": "code",
   "execution_count": null,
   "id": "run-pipeline",
   "metadata": {},
   "outputs": [],
   "source": [
    "report_df = generate_report(DATA_DIR / \"isolates.csv\", DATA_DIR / \"report.csv\", seed=42)",
    "display(report_df)"
   ]
  }
 ],
 "metadata": {
  "kernelspec": {
   "display_name": "Python 3",
   "language": "python",
   "name": "python3"
  },
  "language_info": {
   "name": "python",
   "version": ""
  }
 },
 "nbformat": 4,
 "nbformat_minor": 5
}
